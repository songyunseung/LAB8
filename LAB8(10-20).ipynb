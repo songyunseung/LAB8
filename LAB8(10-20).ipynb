{
 "cells": [
  {
   "cell_type": "code",
   "execution_count": 1,
   "id": "07dbd421",
   "metadata": {},
   "outputs": [
    {
     "ename": "IndexError",
     "evalue": "list index out of range",
     "output_type": "error",
     "traceback": [
      "\u001b[1;31m---------------------------------------------------------------------------\u001b[0m",
      "\u001b[1;31mIndexError\u001b[0m                                Traceback (most recent call last)",
      "Input \u001b[1;32mIn [1]\u001b[0m, in \u001b[0;36m<cell line: 2>\u001b[1;34m()\u001b[0m\n\u001b[0;32m      1\u001b[0m a \u001b[38;5;241m=\u001b[39m [\u001b[38;5;241m10\u001b[39m,\u001b[38;5;241m20\u001b[39m,\u001b[38;5;241m30\u001b[39m]\n\u001b[1;32m----> 2\u001b[0m \u001b[43ma\u001b[49m\u001b[43m[\u001b[49m\u001b[38;5;241;43m3\u001b[39;49m\u001b[43m]\u001b[49m\n",
      "\u001b[1;31mIndexError\u001b[0m: list index out of range"
     ]
    }
   ],
   "source": [
    "a = [10,20,30]\n",
    "a[3]"
   ]
  },
  {
   "cell_type": "code",
   "execution_count": 2,
   "id": "1d2a3dd0",
   "metadata": {},
   "outputs": [
    {
     "ename": "ValueError",
     "evalue": "invalid literal for int() with base 10: '20%'",
     "output_type": "error",
     "traceback": [
      "\u001b[1;31m---------------------------------------------------------------------------\u001b[0m",
      "\u001b[1;31mValueError\u001b[0m                                Traceback (most recent call last)",
      "Input \u001b[1;32mIn [2]\u001b[0m, in \u001b[0;36m<cell line: 1>\u001b[1;34m()\u001b[0m\n\u001b[1;32m----> 1\u001b[0m n \u001b[38;5;241m=\u001b[39m \u001b[38;5;28;43mint\u001b[39;49m\u001b[43m(\u001b[49m\u001b[38;5;124;43m'\u001b[39;49m\u001b[38;5;124;43m20\u001b[39;49m\u001b[38;5;124;43m%\u001b[39;49m\u001b[38;5;124;43m'\u001b[39;49m\u001b[43m)\u001b[49m\n",
      "\u001b[1;31mValueError\u001b[0m: invalid literal for int() with base 10: '20%'"
     ]
    }
   ],
   "source": [
    "n = int('20%')"
   ]
  },
  {
   "cell_type": "code",
   "execution_count": 3,
   "id": "0fd30d77",
   "metadata": {},
   "outputs": [
    {
     "ename": "TypeError",
     "evalue": "unsupported operand type(s) for +: 'int' and 'str'",
     "output_type": "error",
     "traceback": [
      "\u001b[1;31m---------------------------------------------------------------------------\u001b[0m",
      "\u001b[1;31mTypeError\u001b[0m                                 Traceback (most recent call last)",
      "Input \u001b[1;32mIn [3]\u001b[0m, in \u001b[0;36m<cell line: 1>\u001b[1;34m()\u001b[0m\n\u001b[1;32m----> 1\u001b[0m a \u001b[38;5;241m=\u001b[39m \u001b[38;5;241;43m100\u001b[39;49m\u001b[43m \u001b[49m\u001b[38;5;241;43m+\u001b[39;49m\u001b[38;5;124;43m'\u001b[39;49m\u001b[38;5;124;43m200\u001b[39;49m\u001b[38;5;124;43m'\u001b[39;49m\n",
      "\u001b[1;31mTypeError\u001b[0m: unsupported operand type(s) for +: 'int' and 'str'"
     ]
    }
   ],
   "source": [
    "a = 100 +'200'"
   ]
  },
  {
   "cell_type": "code",
   "execution_count": 7,
   "id": "39e77601",
   "metadata": {},
   "outputs": [
    {
     "name": "stdout",
     "output_type": "stream",
     "text": [
      "error : list index out of range\n"
     ]
    }
   ],
   "source": [
    "try:\n",
    "    a = [10,20,30]\n",
    "    a[3]\n",
    "except Exception as e:\n",
    "    print('error :',e)"
   ]
  },
  {
   "cell_type": "code",
   "execution_count": 9,
   "id": "583b2874",
   "metadata": {},
   "outputs": [
    {
     "name": "stdout",
     "output_type": "stream",
     "text": [
      "error : invalid literal for int() with base 10: '20%'\n"
     ]
    }
   ],
   "source": [
    "try:\n",
    "    n = int('20%')\n",
    "except Exception as e:\n",
    "    print('error :',e)"
   ]
  },
  {
   "cell_type": "code",
   "execution_count": 8,
   "id": "5d8b51be",
   "metadata": {},
   "outputs": [
    {
     "name": "stdout",
     "output_type": "stream",
     "text": [
      "error : unsupported operand type(s) for +: 'int' and 'str'\n"
     ]
    }
   ],
   "source": [
    "try:\n",
    "    a = 100 +'200'\n",
    "except Exception as e:\n",
    "    print('error :',e)"
   ]
  },
  {
   "cell_type": "code",
   "execution_count": 18,
   "id": "821ebe1c",
   "metadata": {},
   "outputs": [
    {
     "name": "stdout",
     "output_type": "stream",
     "text": [
      "0으로 나누는 오류\n"
     ]
    }
   ],
   "source": [
    "try:\n",
    "    b = 10 * (30/0)\n",
    "except ZeroDivisionError:\n",
    "    print('0으로 나누는 오류')\n",
    "except ValueError:\n",
    "    print('입력값이 정수나 실수가 아닙니다')\n",
    "except Exception as e:\n",
    "    print('error :',e)\n",
    "else:\n",
    "    print(b)"
   ]
  },
  {
   "cell_type": "code",
   "execution_count": 20,
   "id": "414439c4",
   "metadata": {},
   "outputs": [
    {
     "name": "stdout",
     "output_type": "stream",
     "text": [
      "정수 x를 입력하세요: ㅁ\n",
      "입력값이 정수나 실수가 아닙니다\n"
     ]
    }
   ],
   "source": [
    "try:\n",
    "    x = int(input('정수 x를 입력하세요: '))\n",
    "except ZeroDivisionError:\n",
    "    print('0으로 나누는 오류')\n",
    "except ValueError:\n",
    "    print('입력값이 정수나 실수가 아닙니다')\n",
    "except Exception as e:\n",
    "    print('error :',e)\n",
    "else:\n",
    "    print(x)"
   ]
  },
  {
   "cell_type": "code",
   "execution_count": 23,
   "id": "45ccdc3e",
   "metadata": {},
   "outputs": [
    {
     "name": "stdout",
     "output_type": "stream",
     "text": [
      "error : [Errno 2] No such file or directory: 'myfile.txt'\n"
     ]
    }
   ],
   "source": [
    "try:\n",
    "    import sys\n",
    "    f = open('myfile.txt')\n",
    "    s = f.readline()\n",
    "except ZeroDivisionError:\n",
    "    print('0으로 나누는 오류')\n",
    "except ValueError:\n",
    "    print('입력값이 정수나 실수가 아닙니다')\n",
    "except Exception as e:\n",
    "    print('error :',e)"
   ]
  },
  {
   "cell_type": "code",
   "execution_count": 22,
   "id": "1031187d",
   "metadata": {},
   "outputs": [
    {
     "ename": "FileNotFoundError",
     "evalue": "[Errno 2] No such file or directory: 'myfile.txt'",
     "output_type": "error",
     "traceback": [
      "\u001b[1;31m---------------------------------------------------------------------------\u001b[0m",
      "\u001b[1;31mFileNotFoundError\u001b[0m                         Traceback (most recent call last)",
      "Input \u001b[1;32mIn [22]\u001b[0m, in \u001b[0;36m<cell line: 2>\u001b[1;34m()\u001b[0m\n\u001b[0;32m      1\u001b[0m \u001b[38;5;28;01mimport\u001b[39;00m \u001b[38;5;21;01msys\u001b[39;00m\n\u001b[1;32m----> 2\u001b[0m f \u001b[38;5;241m=\u001b[39m \u001b[38;5;28;43mopen\u001b[39;49m\u001b[43m(\u001b[49m\u001b[38;5;124;43m'\u001b[39;49m\u001b[38;5;124;43mmyfile.txt\u001b[39;49m\u001b[38;5;124;43m'\u001b[39;49m\u001b[43m)\u001b[49m\n\u001b[0;32m      3\u001b[0m s \u001b[38;5;241m=\u001b[39m f\u001b[38;5;241m.\u001b[39mreadline()\n",
      "\u001b[1;31mFileNotFoundError\u001b[0m: [Errno 2] No such file or directory: 'myfile.txt'"
     ]
    }
   ],
   "source": [
    "import sys\n",
    "f = open('myfile.txt')\n",
    "s = f.readline()"
   ]
  },
  {
   "cell_type": "code",
   "execution_count": 26,
   "id": "0a06d4a9",
   "metadata": {},
   "outputs": [
    {
     "name": "stdout",
     "output_type": "stream",
     "text": [
      "a의 요소를 하나 선택하시오 :2\n",
      "2 은(는) 두 번째 요소입니다.\n"
     ]
    }
   ],
   "source": [
    "def find_(a,n):\n",
    "    try:\n",
    "        b = a.index(n)\n",
    "    except Exception as e:\n",
    "        print('error :',e)\n",
    "    else:\n",
    "        if(b == 0):\n",
    "            print(n,\"은(는) 첫 번째 요소입니다.\")\n",
    "        elif(b == 1):\n",
    "            print(n,\"은(는) 두 번째 요소입니다.\")\n",
    "        elif(b == 2):\n",
    "            print(n,\"은(는) 세 번째 요소입니다.\")\n",
    "        elif(b == 3):\n",
    "            print(n,\"은(는) 네 번째 요소입니다.\")\n",
    "        elif(b == 4):\n",
    "            print(n,\"은(는) 다섯 번째 요소입니다.\")\n",
    "        \n",
    "a = [1,2,3,4,5]\n",
    "n = int(input(\"a의 요소를 하나 선택하시오 :\"))\n",
    "find_(a,n)"
   ]
  },
  {
   "cell_type": "code",
   "execution_count": 27,
   "id": "264203cc",
   "metadata": {},
   "outputs": [
    {
     "name": "stdout",
     "output_type": "stream",
     "text": [
      "a의 요소를 하나 선택하시오 :1\n",
      "1 은(는) 첫 번째 요소입니다.\n"
     ]
    }
   ],
   "source": [
    "def find_(a,n):\n",
    "    try:\n",
    "        b = a.index(n)\n",
    "    except Exception as e:\n",
    "        print('error :',e)\n",
    "    else:\n",
    "        if(b == 0):\n",
    "            print(n,\"은(는) 첫 번째 요소입니다.\")\n",
    "        elif(b == 1):\n",
    "            print(n,\"은(는) 두 번째 요소입니다.\")\n",
    "        elif(b == 2):\n",
    "            print(n,\"은(는) 세 번째 요소입니다.\")\n",
    "        elif(b == 3):\n",
    "            print(n,\"은(는) 네 번째 요소입니다.\")\n",
    "        elif(b == 4):\n",
    "            print(n,\"은(는) 다섯 번째 요소입니다.\")\n",
    "        \n",
    "a = [1,2,3,4,5]\n",
    "n = int(input(\"a의 요소를 하나 선택하시오 :\"))\n",
    "find_(a,n)"
   ]
  },
  {
   "cell_type": "code",
   "execution_count": 32,
   "id": "bd598cef",
   "metadata": {},
   "outputs": [
    {
     "name": "stdout",
     "output_type": "stream",
     "text": [
      "a의 요소를 하나 선택하시오 :삼\n",
      "오류 : 입력 값이 정수나 실수가 아님\n"
     ]
    }
   ],
   "source": [
    "def find_(a,n):\n",
    "    try:\n",
    "        b = a.index(n)\n",
    "    except Exception as e:\n",
    "        print('오류 :',e)\n",
    "    else:\n",
    "        if(b == 0):\n",
    "            print(n,\"은(는) 첫 번째 요소입니다.\")\n",
    "        elif(b == 1):\n",
    "            print(n,\"은(는) 두 번째 요소입니다.\")\n",
    "        elif(b == 2):\n",
    "            print(n,\"은(는) 세 번째 요소입니다.\")\n",
    "        elif(b == 3):\n",
    "            print(n,\"은(는) 네 번째 요소입니다.\")\n",
    "        elif(b == 4):\n",
    "            print(n,\"은(는) 다섯 번째 요소입니다.\")\n",
    "            \n",
    "a = [1,2,3,4,5]\n",
    "try:\n",
    "    n = int(input(\"a의 요소를 하나 선택하시오 :\"))\n",
    "except:\n",
    "    print('오류 : 입력 값이 정수나 실수가 아님')\n",
    "else:\n",
    "    find_(a,n)"
   ]
  },
  {
   "cell_type": "code",
   "execution_count": 40,
   "id": "42fbdfca",
   "metadata": {},
   "outputs": [
    {
     "name": "stdout",
     "output_type": "stream",
     "text": [
      "a의 요소를 하나 선택하시오 :5\n",
      "5 은(는) 다섯 번째 요소입니다\n"
     ]
    }
   ],
   "source": [
    "def find_(a,n,c):\n",
    "    try:\n",
    "        b = a.index(n)\n",
    "    except Exception as e:\n",
    "        print('오류 :',e)\n",
    "    else:\n",
    "        if(b == 0):\n",
    "            print(n,\"{}\".format(c[b]))\n",
    "        elif(b == 1):\n",
    "            print(n,\"{}\".format(c[b]))\n",
    "        elif(b == 2):\n",
    "            print(n,\"{}\".format(c[b]))\n",
    "        elif(b == 3):\n",
    "            print(n,\"{}\".format(c[b]))\n",
    "        elif(b == 4):\n",
    "            print(n,\"{}\".format(c[b]))\n",
    "        \n",
    "a = [1,2,3,4,5]\n",
    "c = ['은(는) 첫 번째 요소입니다','은(는) 두 번째 요소입니다','은(는) 세 번째 요소입니다','은(는) 네 번째 요소입니다','은(는) 다섯 번째 요소입니다']\n",
    "try:\n",
    "    n = int(input(\"a의 요소를 하나 선택하시오 :\"))\n",
    "except:\n",
    "    print('오류 : 입력 값이 정수나 실수가 아님')\n",
    "else:\n",
    "    find_(a,n,c)"
   ]
  },
  {
   "cell_type": "code",
   "execution_count": 42,
   "id": "448c391b",
   "metadata": {},
   "outputs": [
    {
     "name": "stdout",
     "output_type": "stream",
     "text": [
      "입력1\n",
      "error : 입력을 확인하세요.\n",
      "입력2\n",
      "error : 입력을 확인하세요.\n",
      "입력예\n",
      "정상적인 입력\n"
     ]
    }
   ],
   "source": [
    "def ans_(ans):\n",
    "    if ans in ['예','아니오']:\n",
    "        print('정상적인 입력')\n",
    "    else:\n",
    "        raise ValueError('입력을 확인하세요.')\n",
    "while True:\n",
    "    try:\n",
    "        ans = input('입력')\n",
    "        ans_(ans)\n",
    "        break\n",
    "    except Exception as e:\n",
    "        print('error :',e)\n",
    "        \n",
    "        "
   ]
  },
  {
   "cell_type": "code",
   "execution_count": 49,
   "id": "64cef3c2",
   "metadata": {},
   "outputs": [],
   "source": [
    "f = open('numbers.txt','w')\n",
    "f.write('100\\n')\n",
    "f.write('200\\n')\n",
    "f.write('300\\n')\n",
    "f.write('400\\n')\n",
    "f.close()"
   ]
  },
  {
   "cell_type": "code",
   "execution_count": 48,
   "id": "8df23248",
   "metadata": {},
   "outputs": [],
   "source": [
    "f = open('we_will-rock.txt','w')\n",
    "f.write('Buddy, you\\'re a boy, make a big noise\\n')\n",
    "f.write('Playing in the street, gonna be a big man someday\\n')\n",
    "f.write('You got mud on your face, you big disgrace\\n')\n",
    "f.write('Kicking your  cna all over the place, singin\\'\\n')\n",
    "f.write('We will, we will rock you\\n')\n",
    "f.write('We will, we will rock you\\n')\n",
    "f.close()"
   ]
  },
  {
   "cell_type": "code",
   "execution_count": 50,
   "id": "23a2ebd2",
   "metadata": {},
   "outputs": [
    {
     "name": "stdout",
     "output_type": "stream",
     "text": [
      "100\n",
      "200\n",
      "300\n",
      "400\n",
      "\n",
      "\n",
      "\n"
     ]
    }
   ],
   "source": [
    "f = open('numbers.txt','r')\n",
    "s = f.read().rstrip('\\n')\n",
    "print(s)\n",
    "s = f.read().rstrip('\\n')\n",
    "print(s)\n",
    "s = f.read().rstrip('\\n')\n",
    "print(s)\n",
    "s = f.read().rstrip('\\n')\n",
    "print(s)\n",
    "f.close()"
   ]
  },
  {
   "cell_type": "code",
   "execution_count": 51,
   "id": "5a0aa71d",
   "metadata": {},
   "outputs": [
    {
     "name": "stdout",
     "output_type": "stream",
     "text": [
      "Buddy, you're a boy, make a big noise\n",
      "Playing in the street, gonna be a big man someday\n",
      "You got mud on your face, you big disgrace\n",
      "Kicking your  cna all over the place, singin'\n",
      "We will, we will rock you\n",
      "We will, we will rock you\n",
      "\n",
      "\n",
      "\n",
      "\n",
      "\n"
     ]
    }
   ],
   "source": [
    "f = open('we_will-rock.txt','r')\n",
    "s = f.read().rstrip('\\n')\n",
    "print(s)\n",
    "s = f.read().rstrip('\\n')\n",
    "print(s)\n",
    "s = f.read().rstrip('\\n')\n",
    "print(s)\n",
    "s = f.read().rstrip('\\n')\n",
    "print(s)\n",
    "s = f.read().rstrip('\\n')\n",
    "print(s)\n",
    "s = f.read().rstrip('\\n')\n",
    "print(s)\n",
    "f.close()"
   ]
  },
  {
   "cell_type": "code",
   "execution_count": 54,
   "id": "f6ad4884",
   "metadata": {},
   "outputs": [
    {
     "name": "stdout",
     "output_type": "stream",
     "text": [
      "입력할 파일의 이름 : we_will-rock.txt\n",
      "BUDDY, YOU'RE A BOY, MAKE A BIG NOISE\n",
      "PLAYING IN THE STREET, GONNA BE A BIG MAN SOMEDAY\n",
      "YOU GOT MUD ON YOUR FACE, YOU BIG DISGRACE\n",
      "KICKING YOUR  CNA ALL OVER THE PLACE, SINGIN'\n",
      "WE WILL, WE WILL ROCK YOU\n",
      "WE WILL, WE WILL ROCK YOU\n",
      "\n"
     ]
    }
   ],
   "source": [
    "fname = input('입력할 파일의 이름 : ')\n",
    "f = open(fname,'r')\n",
    "s = f.readline().upper().rstrip('\\n')\n",
    "print(s)\n",
    "while s:\n",
    "    s = f.readline().upper().rstrip('\\n')\n",
    "    print(s)\n",
    "f.close()"
   ]
  }
 ],
 "metadata": {
  "kernelspec": {
   "display_name": "Python 3 (ipykernel)",
   "language": "python",
   "name": "python3"
  },
  "language_info": {
   "codemirror_mode": {
    "name": "ipython",
    "version": 3
   },
   "file_extension": ".py",
   "mimetype": "text/x-python",
   "name": "python",
   "nbconvert_exporter": "python",
   "pygments_lexer": "ipython3",
   "version": "3.9.12"
  }
 },
 "nbformat": 4,
 "nbformat_minor": 5
}
