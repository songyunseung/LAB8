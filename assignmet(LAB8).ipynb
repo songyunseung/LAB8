{
 "cells": [
  {
   "cell_type": "code",
   "execution_count": 4,
   "metadata": {},
   "outputs": [],
   "source": [
    "f = open('number1to10.txt','r')\n",
    "p = open('numberby10.txt','w')\n",
    "q = open('merge.txt','w')\n",
    "s = 1\n",
    "for _ in range(10):\n",
    "    s = int(f.readline().rstrip())\n",
    "    s *= 10\n",
    "    p.write(str(s))\n",
    "    p.write(\"\\n\")\n",
    "f.close()\n",
    "p.close()\n",
    "f = open('number1to10.txt','r')\n",
    "p = open('numberby10.txt','r')\n",
    "q = open('merge.txt','w')\n",
    "for _ in range(10):\n",
    "    i = f.readline().rstrip()\n",
    "    j = p.readline().rstrip()\n",
    "    q.write(\"{} : {}\\n\".format(i,j))\n",
    "\n",
    "q.close()"
   ]
  },
  {
   "cell_type": "code",
   "execution_count": 5,
   "metadata": {},
   "outputs": [],
   "source": [
    "\n",
    "try:\n",
    "    f = open('greet.txt','w')\n",
    "    f.write(\"Hi, everyone.\\n\")\n",
    "    f.write(\"welcome to python\")\n",
    "except Exception as e:\n",
    "    print(\"error: \",e)\n",
    "f.close()"
   ]
  },
  {
   "cell_type": "code",
   "execution_count": 6,
   "metadata": {},
   "outputs": [
    {
     "ename": "PermissionError",
     "evalue": "[Errno 13] Permission denied: 'my_hello.txt'",
     "output_type": "error",
     "traceback": [
      "\u001b[1;31m---------------------------------------------------------------------------\u001b[0m",
      "\u001b[1;31mPermissionError\u001b[0m                           Traceback (most recent call last)",
      "Cell \u001b[1;32mIn [6], line 1\u001b[0m\n\u001b[1;32m----> 1\u001b[0m f \u001b[39m=\u001b[39m \u001b[39mopen\u001b[39;49m(\u001b[39m'\u001b[39;49m\u001b[39mmy_hello.txt\u001b[39;49m\u001b[39m'\u001b[39;49m,\u001b[39m'\u001b[39;49m\u001b[39mw\u001b[39;49m\u001b[39m'\u001b[39;49m)\n\u001b[0;32m      2\u001b[0m f\u001b[39m.\u001b[39mwrite(\u001b[39m\"\u001b[39m\u001b[39mHello Python\u001b[39m\u001b[39m\"\u001b[39m)\n\u001b[0;32m      3\u001b[0m f\u001b[39m.\u001b[39mclose()\n",
      "\u001b[1;31mPermissionError\u001b[0m: [Errno 13] Permission denied: 'my_hello.txt'"
     ]
    }
   ],
   "source": [
    "f = open('my_hello.txt','w')\n",
    "f.write(\"Hello Python\")\n",
    "f.close()\n"
   ]
  },
  {
   "cell_type": "code",
   "execution_count": 7,
   "metadata": {},
   "outputs": [
    {
     "name": "stdout",
     "output_type": "stream",
     "text": [
      "error : [Errno 13] Permission denied: 'my_hello.txt'\n"
     ]
    }
   ],
   "source": [
    "try:\n",
    "    f = open('my_hello.txt','w')\n",
    "    f.write(\"Hello Python\")\n",
    "except Exception as e:\n",
    "    print(\"error :\",e)\n",
    "\n",
    "f.close()"
   ]
  },
  {
   "cell_type": "code",
   "execution_count": 17,
   "metadata": {},
   "outputs": [
    {
     "name": "stdout",
     "output_type": "stream",
     "text": [
      "hello.txt 파일 :\n",
      "Hello.\n",
      "Hi, there.\n"
     ]
    }
   ],
   "source": [
    "\n",
    "f = open('hello.txt','r')\n",
    "print(\"hello.txt 파일 :\")\n",
    "s = f.readline().rstrip()\n",
    "s = s.replace('1','')\n",
    "s = s.lstrip()\n",
    "print(s)\n",
    "t = f.readline().rstrip()\n",
    "t = t.replace('2','')\n",
    "t = t.lstrip()\n",
    "print(t)\n",
    "f.close()\n"
   ]
  },
  {
   "cell_type": "code",
   "execution_count": 19,
   "metadata": {},
   "outputs": [
    {
     "name": "stdout",
     "output_type": "stream",
     "text": [
      "hello.txt 파일 :\n",
      "Hello.\n",
      "Hi, there.\n",
      "Welcome to Python!\n"
     ]
    }
   ],
   "source": [
    "f = open('hello.txt','a')\n",
    "f.write(\"\\nWelcome to Python!\")\n",
    "f.close()\n",
    "f = open('hello.txt','r')\n",
    "print(\"hello.txt 파일 :\")\n",
    "s = f.readline().rstrip()\n",
    "s = s.replace('1','')\n",
    "s = s.lstrip()\n",
    "print(s)\n",
    "t = f.readline().rstrip()\n",
    "t = t.replace('2','')\n",
    "t = t.lstrip()\n",
    "print(t)\n",
    "k = f.readline().rstrip()\n",
    "print(k)\n",
    "f.close()"
   ]
  },
  {
   "cell_type": "code",
   "execution_count": 30,
   "metadata": {},
   "outputs": [
    {
     "name": "stdout",
     "output_type": "stream",
     "text": [
      "1 : 3개\n",
      "2 : 3개\n",
      "3 : 1개\n",
      "4 : 2개\n",
      "5 : 6개\n",
      "6 : 4개\n",
      "7 : 3개\n",
      "8 : 2개\n",
      "9 : 2개\n",
      "10 : 4개\n"
     ]
    }
   ],
   "source": [
    "import random as r\n",
    "f = open('randint30.txt','w')\n",
    "for _ in range(30):\n",
    "    n = r.randrange(1,11)\n",
    "    f.write(str(n))\n",
    "    f.write(' ')\n",
    "f.close()\n",
    "f = open('randint30.txt','r')\n",
    "\n",
    "s = f.readline()\n",
    "s = s.split(' ')\n",
    "list1 = list(range(1,11))\n",
    "for i in  list1:\n",
    "    print(\"{} : {}개\".format(i,s.count(str(i))))\n",
    "\n"
   ]
  },
  {
   "cell_type": "code",
   "execution_count": null,
   "metadata": {},
   "outputs": [],
   "source": []
  }
 ],
 "metadata": {
  "kernelspec": {
   "display_name": "Python 3.10.7 64-bit",
   "language": "python",
   "name": "python3"
  },
  "language_info": {
   "codemirror_mode": {
    "name": "ipython",
    "version": 3
   },
   "file_extension": ".py",
   "mimetype": "text/x-python",
   "name": "python",
   "nbconvert_exporter": "python",
   "pygments_lexer": "ipython3",
   "version": "3.10.7"
  },
  "orig_nbformat": 4,
  "vscode": {
   "interpreter": {
    "hash": "fb4569285eef3a3450cb62085a5b1e0da4bce0af555edc33dcf29baf3acc1368"
   }
  }
 },
 "nbformat": 4,
 "nbformat_minor": 2
}
